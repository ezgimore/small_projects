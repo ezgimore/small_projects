{
 "cells": [
  {
   "cell_type": "code",
   "execution_count": 1,
   "metadata": {},
   "outputs": [
    {
     "name": "stdout",
     "output_type": "stream",
     "text": [
      "(('the', 'tragedie'), 2)\n"
     ]
    }
   ],
   "source": [
    "# Julie Whitmore (jaw190006)\n",
    "\n",
    "punct = ['[', ']', '.', '?', '!', ':', ';', ',', '\\'', '-', '(', ')']\n",
    "bigrams = []\n",
    "corpus = []\n",
    "\n",
    "with open('corpus') as file:\n",
    "    for line in file:\n",
    "        words = [x for x in line.rstrip().split(\" \") if x not in punct]\n",
    "        bigrams += [x for x in zip(words[:-1], words[1:])]\n",
    "        corpus += words\n",
    "\n",
    "final_bigrams = []\n",
    "[final_bigrams.append(x) for x in map(lambda x: (x, bigrams.count(x)), bigrams) if x not in final_bigrams]\n",
    "\n",
    "print(final_bigrams[0])"
   ]
  },
  {
   "cell_type": "code",
   "execution_count": 2,
   "metadata": {},
   "outputs": [
    {
     "name": "stdout",
     "output_type": "stream",
     "text": [
      "13\n"
     ]
    }
   ],
   "source": [
    "temp = ('mark', 'antony')\n",
    "count = next((y for x,y in final_bigrams if x==temp), 0)\n",
    "\n",
    "print(count)"
   ]
  },
  {
   "cell_type": "code",
   "execution_count": 3,
   "metadata": {},
   "outputs": [],
   "source": [
    "import pandas as pd\n",
    "\n",
    "def bigram_counts(sentence, addOne):\n",
    "    counts = pd.DataFrame(columns = list(dict.fromkeys(sentence)), index = list(dict.fromkeys(sentence)))\n",
    "\n",
    "    for row in counts.index:\n",
    "        for column in counts.columns:\n",
    "            counts.loc[row][column] = next((y for x,y in final_bigrams if x==(row,column)), 0)\n",
    "    \n",
    "    if(addOne):\n",
    "        counts = counts + 1\n",
    "\n",
    "    return(counts)\n",
    "\n",
    "def bigram_probabilities(counts, addOne):\n",
    "    for row in counts.index:\n",
    "        for column in counts.columns:\n",
    "            temp = corpus.count(row)\n",
    "            \n",
    "            if(addOne):\n",
    "                temp = temp + len(set(corpus))\n",
    "\n",
    "            counts.loc[row][column] = counts.loc[row][column] / temp\n",
    "\n",
    "    return(counts)\n",
    "\n",
    "def sentence_probability(sentence, counts):\n",
    "    sentence_bigrams = []\n",
    "    sentence_bigrams += [x for x in zip(sentence[:-1], sentence[1:])]\n",
    "\n",
    "    prob = corpus.count(sentence[0]) / len(corpus)\n",
    "    \n",
    "    for x in sentence_bigrams:\n",
    "        prob = prob * counts.loc[x[0]][x[1]]\n",
    "    return(prob)"
   ]
  },
  {
   "cell_type": "code",
   "execution_count": 4,
   "metadata": {},
   "outputs": [
    {
     "name": "stdout",
     "output_type": "stream",
     "text": [
      "Bigram Counts (sentence 1) AddOne: 0\n",
      "        mark antony heere take you caesars body shall not come  to them poet\n",
      "mark       0     13     0    0   0       0    0     0   0    0   0    0    0\n",
      "antony     0      0     1    0   1       0    0     4   0    1   1    0    0\n",
      "heere      0      0     1    2   0       0    0     0   0    0   0    0    0\n",
      "take       0      0     0    0   1       0    0     0   0    0   0    0    0\n",
      "you        0      1     3    0   2       1    0    16   9    0   9    0    0\n",
      "caesars    0      0     0    0   0       0    2     0   0    0   1    0    0\n",
      "body       0      0     0    0   1       0    0     0   0    0   1    0    0\n",
      "shall      0      0     0    1   1       0    0     0  10    0   0    0    0\n",
      "not        0      0     0    1   2       0    0     0   0    7   6    0    0\n",
      "come       0      2     0    0   0       0    0     0   2    1  15    0    0\n",
      "to         0      0     0    1  15       4    0     0   0    2   0    2    0\n",
      "them       0      0     0    0   1       0    0     1   0    0   2    0    0\n",
      "poet       0      0     0    0   0       0    0     0   0    0   0    0    0\n"
     ]
    }
   ],
   "source": [
    "test = [ 'mark', 'antony', 'heere', 'take', 'you', 'caesars', 'body', 'you', 'shall', 'not', 'come', 'to', 'them', 'poet' ]\n",
    "addone = 0\n",
    "counts = bigram_counts(test, addone)\n",
    "print(f\"Bigram Counts (sentence 1) AddOne: {addone}\")\n",
    "print(counts)\n"
   ]
  },
  {
   "cell_type": "code",
   "execution_count": 5,
   "metadata": {},
   "outputs": [
    {
     "name": "stdout",
     "output_type": "stream",
     "text": [
      "Bigram Probabilities (sentence 1) AddOne: 0\n",
      "        mark    antony     heere      take       you   caesars      body  \\\n",
      "mark     0.0  0.928571       0.0       0.0       0.0       0.0       0.0   \n",
      "antony   0.0       0.0  0.013333       0.0  0.013333       0.0       0.0   \n",
      "heere    0.0       0.0  0.016949  0.033898       0.0       0.0       0.0   \n",
      "take     0.0       0.0       0.0       0.0  0.043478       0.0       0.0   \n",
      "you      0.0  0.002558  0.007673       0.0  0.005115  0.002558       0.0   \n",
      "caesars  0.0       0.0       0.0       0.0       0.0       0.0  0.052632   \n",
      "body     0.0       0.0       0.0       0.0  0.076923       0.0       0.0   \n",
      "shall    0.0       0.0       0.0     0.008     0.008       0.0       0.0   \n",
      "not      0.0       0.0       0.0  0.003891  0.007782       0.0       0.0   \n",
      "come     0.0  0.027027       0.0       0.0       0.0       0.0       0.0   \n",
      "to       0.0       0.0       0.0  0.002242  0.033632  0.008969       0.0   \n",
      "them     0.0       0.0       0.0       0.0  0.016667       0.0       0.0   \n",
      "poet     0.0       0.0       0.0       0.0       0.0       0.0       0.0   \n",
      "\n",
      "            shall       not      come        to      them poet  \n",
      "mark          0.0       0.0       0.0       0.0       0.0  0.0  \n",
      "antony   0.053333       0.0  0.013333  0.013333       0.0  0.0  \n",
      "heere         0.0       0.0       0.0       0.0       0.0  0.0  \n",
      "take          0.0       0.0       0.0       0.0       0.0  0.0  \n",
      "you      0.040921  0.023018       0.0  0.023018       0.0  0.0  \n",
      "caesars       0.0       0.0       0.0  0.026316       0.0  0.0  \n",
      "body          0.0       0.0       0.0  0.076923       0.0  0.0  \n",
      "shall         0.0      0.08       0.0       0.0       0.0  0.0  \n",
      "not           0.0       0.0  0.027237  0.023346       0.0  0.0  \n",
      "come          0.0  0.027027  0.013514  0.202703       0.0  0.0  \n",
      "to            0.0       0.0  0.004484       0.0  0.004484  0.0  \n",
      "them     0.016667       0.0       0.0  0.033333       0.0  0.0  \n",
      "poet          0.0       0.0       0.0       0.0       0.0  0.0  \n"
     ]
    }
   ],
   "source": [
    "counts = bigram_probabilities(counts, addone)\n",
    "print(f\"Bigram Probabilities (sentence 1) AddOne: {addone}\")\n",
    "print(counts)"
   ]
  },
  {
   "cell_type": "code",
   "execution_count": 6,
   "metadata": {},
   "outputs": [
    {
     "name": "stdout",
     "output_type": "stream",
     "text": [
      "Sentence 1 probability: 0.0\n"
     ]
    }
   ],
   "source": [
    "prob = sentence_probability(test, counts)\n",
    "\n",
    "print(f\"Sentence 1 probability: {prob}\")"
   ]
  },
  {
   "cell_type": "code",
   "execution_count": 7,
   "metadata": {},
   "outputs": [
    {
     "name": "stdout",
     "output_type": "stream",
     "text": [
      "Bigram Counts (sentence 2) AddOne: 0\n",
      "           no sir there are comets seen the heauens speede thee in thine  \\\n",
      "no          0   2     0   0      1    0   0       0      0    0  0     0   \n",
      "sir         0   0     1   0      0    0   0       0      0    0  1     0   \n",
      "there       1   0     0   3      0    0   0       0      0    0  0     0   \n",
      "are         2   0     0   0      0    0   3       0      0    0  2     0   \n",
      "comets      0   0     0   0      0    1   0       0      0    0  0     0   \n",
      "seen        0   0     0   0      0    0   1       0      0    0  0     0   \n",
      "the         0   0     0   0      0    0   0       5      0    0  0     0   \n",
      "heauens     0   0     0   0      0    0   0       0      1    0  0     0   \n",
      "speede      0   0     0   0      0    0   0       0      0    1  0     0   \n",
      "thee        0   0     1   0      0    0   0       0      0    0  1     0   \n",
      "in          0   0     0   0      0    0  40       0      0    0  0     2   \n",
      "thine       0   0     0   0      0    0   0       0      0    0  0     0   \n",
      "enterprize  0   0     0   0      0    0   0       0      0    0  0     0   \n",
      "\n",
      "           enterprize  \n",
      "no                  0  \n",
      "sir                 0  \n",
      "there               0  \n",
      "are                 0  \n",
      "comets              0  \n",
      "seen                0  \n",
      "the                 0  \n",
      "heauens             0  \n",
      "speede              0  \n",
      "thee                0  \n",
      "in                  0  \n",
      "thine               1  \n",
      "enterprize          0  \n"
     ]
    }
   ],
   "source": [
    "test = [ 'no', 'sir', 'there', 'are', 'no', 'comets', 'seen', 'the', 'heauens', 'speede', 'thee', 'in', 'thine', 'enterprize' ]\n",
    "addone = 0\n",
    "counts = bigram_counts(test, addone)\n",
    "print(f\"Bigram Counts (sentence 2) AddOne: {addone}\")\n",
    "print(counts)"
   ]
  },
  {
   "cell_type": "code",
   "execution_count": 8,
   "metadata": {},
   "outputs": [
    {
     "name": "stdout",
     "output_type": "stream",
     "text": [
      "Bigram Probabilities (sentence 2) AddOne: 0\n",
      "                  no       sir     there       are    comets seen       the  \\\n",
      "no               0.0  0.021505       0.0       0.0  0.010753  0.0       0.0   \n",
      "sir              0.0       0.0  0.043478       0.0       0.0  0.0       0.0   \n",
      "there       0.018519       0.0       0.0  0.055556       0.0  0.0       0.0   \n",
      "are         0.018349       0.0       0.0       0.0       0.0  0.0  0.027523   \n",
      "comets           0.0       0.0       0.0       0.0       0.0  1.0       0.0   \n",
      "seen             0.0       0.0       0.0       0.0       0.0  0.0       1.0   \n",
      "the              0.0       0.0       0.0       0.0       0.0  0.0       0.0   \n",
      "heauens          0.0       0.0       0.0       0.0       0.0  0.0       0.0   \n",
      "speede           0.0       0.0       0.0       0.0       0.0  0.0       0.0   \n",
      "thee             0.0       0.0  0.018182       0.0       0.0  0.0       0.0   \n",
      "in               0.0       0.0       0.0       0.0       0.0  0.0  0.177778   \n",
      "thine            0.0       0.0       0.0       0.0       0.0  0.0       0.0   \n",
      "enterprize       0.0       0.0       0.0       0.0       0.0  0.0       0.0   \n",
      "\n",
      "             heauens speede thee        in     thine enterprize  \n",
      "no               0.0    0.0  0.0       0.0       0.0        0.0  \n",
      "sir              0.0    0.0  0.0  0.043478       0.0        0.0  \n",
      "there            0.0    0.0  0.0       0.0       0.0        0.0  \n",
      "are              0.0    0.0  0.0  0.018349       0.0        0.0  \n",
      "comets           0.0    0.0  0.0       0.0       0.0        0.0  \n",
      "seen             0.0    0.0  0.0       0.0       0.0        0.0  \n",
      "the         0.008636    0.0  0.0       0.0       0.0        0.0  \n",
      "heauens          0.0    0.2  0.0       0.0       0.0        0.0  \n",
      "speede           0.0    0.0  0.5       0.0       0.0        0.0  \n",
      "thee             0.0    0.0  0.0  0.018182       0.0        0.0  \n",
      "in               0.0    0.0  0.0       0.0  0.008889        0.0  \n",
      "thine            0.0    0.0  0.0       0.0       0.0       0.25  \n",
      "enterprize       0.0    0.0  0.0       0.0       0.0        0.0  \n"
     ]
    }
   ],
   "source": [
    "counts = bigram_probabilities(counts, addone)\n",
    "print(f\"Bigram Probabilities (sentence 2) AddOne: {addone}\")\n",
    "print(counts)"
   ]
  },
  {
   "cell_type": "code",
   "execution_count": 9,
   "metadata": {},
   "outputs": [
    {
     "name": "stdout",
     "output_type": "stream",
     "text": [
      "Sentence 2 probability: 1.5926309369758498e-18\n"
     ]
    }
   ],
   "source": [
    "prob = sentence_probability(test, counts)\n",
    "print(f\"Sentence 2 probability: {prob}\")"
   ]
  },
  {
   "cell_type": "code",
   "execution_count": 10,
   "metadata": {},
   "outputs": [
    {
     "name": "stdout",
     "output_type": "stream",
     "text": [
      "Bigram Counts (sentence 1) AddOne: 1\n",
      "        mark antony heere take you caesars body shall not come  to them poet\n",
      "mark       1     14     1    1   1       1    1     1   1    1   1    1    1\n",
      "antony     1      1     2    1   2       1    1     5   1    2   2    1    1\n",
      "heere      1      1     2    3   1       1    1     1   1    1   1    1    1\n",
      "take       1      1     1    1   2       1    1     1   1    1   1    1    1\n",
      "you        1      2     4    1   3       2    1    17  10    1  10    1    1\n",
      "caesars    1      1     1    1   1       1    3     1   1    1   2    1    1\n",
      "body       1      1     1    1   2       1    1     1   1    1   2    1    1\n",
      "shall      1      1     1    2   2       1    1     1  11    1   1    1    1\n",
      "not        1      1     1    2   3       1    1     1   1    8   7    1    1\n",
      "come       1      3     1    1   1       1    1     1   3    2  16    1    1\n",
      "to         1      1     1    2  16       5    1     1   1    3   1    3    1\n",
      "them       1      1     1    1   2       1    1     2   1    1   3    1    1\n",
      "poet       1      1     1    1   1       1    1     1   1    1   1    1    1\n"
     ]
    }
   ],
   "source": [
    "test = [ 'mark', 'antony', 'heere', 'take', 'you', 'caesars', 'body', 'you', 'shall', 'not', 'come', 'to', 'them', 'poet' ]\n",
    "addone = 1\n",
    "counts = bigram_counts(test, addone)\n",
    "print(f\"Bigram Counts (sentence 1) AddOne: {addone}\")\n",
    "print(counts)"
   ]
  },
  {
   "cell_type": "code",
   "execution_count": 11,
   "metadata": {},
   "outputs": [
    {
     "name": "stdout",
     "output_type": "stream",
     "text": [
      "Bigram Probabilities (sentence 1) AddOne: 1\n",
      "             mark    antony     heere      take       you   caesars      body  \\\n",
      "mark      0.00033  0.004614   0.00033   0.00033   0.00033   0.00033   0.00033   \n",
      "antony   0.000323  0.000323  0.000646  0.000323  0.000646  0.000323  0.000323   \n",
      "heere    0.000325  0.000325   0.00065  0.000974  0.000325  0.000325  0.000325   \n",
      "take     0.000329  0.000329  0.000329  0.000329  0.000657  0.000329  0.000329   \n",
      "you      0.000293  0.000586  0.001173  0.000293   0.00088  0.000586  0.000293   \n",
      "caesars  0.000327  0.000327  0.000327  0.000327  0.000327  0.000327  0.000981   \n",
      "body      0.00033   0.00033   0.00033   0.00033  0.000659   0.00033   0.00033   \n",
      "shall    0.000318  0.000318  0.000318  0.000636  0.000636  0.000318  0.000318   \n",
      "not      0.000305  0.000305  0.000305   0.00061  0.000915  0.000305  0.000305   \n",
      "come     0.000323   0.00097  0.000323  0.000323  0.000323  0.000323  0.000323   \n",
      "to       0.000289  0.000289  0.000289  0.000577  0.004616  0.001443  0.000289   \n",
      "them     0.000325  0.000325  0.000325  0.000325  0.000649  0.000325  0.000325   \n",
      "poet      0.00033   0.00033   0.00033   0.00033   0.00033   0.00033   0.00033   \n",
      "\n",
      "            shall       not      come        to      them      poet  \n",
      "mark      0.00033   0.00033   0.00033   0.00033   0.00033   0.00033  \n",
      "antony   0.001616  0.000323  0.000646  0.000646  0.000323  0.000323  \n",
      "heere    0.000325  0.000325  0.000325  0.000325  0.000325  0.000325  \n",
      "take     0.000329  0.000329  0.000329  0.000329  0.000329  0.000329  \n",
      "you      0.004984  0.002932  0.000293  0.002932  0.000293  0.000293  \n",
      "caesars  0.000327  0.000327  0.000327  0.000654  0.000327  0.000327  \n",
      "body      0.00033   0.00033   0.00033  0.000659   0.00033   0.00033  \n",
      "shall    0.000318  0.003498  0.000318  0.000318  0.000318  0.000318  \n",
      "not      0.000305  0.000305  0.002441  0.002136  0.000305  0.000305  \n",
      "come     0.000323   0.00097  0.000646  0.005171  0.000323  0.000323  \n",
      "to       0.000289  0.000289  0.000866  0.000289  0.000866  0.000289  \n",
      "them     0.000649  0.000325  0.000325  0.000974  0.000325  0.000325  \n",
      "poet      0.00033   0.00033   0.00033   0.00033   0.00033   0.00033  \n"
     ]
    }
   ],
   "source": [
    "counts = bigram_probabilities(counts, addone)\n",
    "print(f\"Bigram Probabilities (sentence 1) AddOne: {addone}\")\n",
    "print(counts)"
   ]
  },
  {
   "cell_type": "code",
   "execution_count": 12,
   "metadata": {},
   "outputs": [
    {
     "name": "stdout",
     "output_type": "stream",
     "text": [
      "Sentence 1 probability: 3.0031859556024903e-41\n"
     ]
    }
   ],
   "source": [
    "prob = sentence_probability(test, counts)\n",
    "print(f\"Sentence 1 probability: {prob}\")"
   ]
  },
  {
   "cell_type": "code",
   "execution_count": 13,
   "metadata": {},
   "outputs": [
    {
     "name": "stdout",
     "output_type": "stream",
     "text": [
      "Bigram Counts (sentence 2) AddOne: 1\n",
      "           no sir there are comets seen the heauens speede thee in thine  \\\n",
      "no          1   3     1   1      2    1   1       1      1    1  1     1   \n",
      "sir         1   1     2   1      1    1   1       1      1    1  2     1   \n",
      "there       2   1     1   4      1    1   1       1      1    1  1     1   \n",
      "are         3   1     1   1      1    1   4       1      1    1  3     1   \n",
      "comets      1   1     1   1      1    2   1       1      1    1  1     1   \n",
      "seen        1   1     1   1      1    1   2       1      1    1  1     1   \n",
      "the         1   1     1   1      1    1   1       6      1    1  1     1   \n",
      "heauens     1   1     1   1      1    1   1       1      2    1  1     1   \n",
      "speede      1   1     1   1      1    1   1       1      1    2  1     1   \n",
      "thee        1   1     2   1      1    1   1       1      1    1  2     1   \n",
      "in          1   1     1   1      1    1  41       1      1    1  1     3   \n",
      "thine       1   1     1   1      1    1   1       1      1    1  1     1   \n",
      "enterprize  1   1     1   1      1    1   1       1      1    1  1     1   \n",
      "\n",
      "           enterprize  \n",
      "no                  1  \n",
      "sir                 1  \n",
      "there               1  \n",
      "are                 1  \n",
      "comets              1  \n",
      "seen                1  \n",
      "the                 1  \n",
      "heauens             1  \n",
      "speede              1  \n",
      "thee                1  \n",
      "in                  1  \n",
      "thine               2  \n",
      "enterprize          1  \n"
     ]
    }
   ],
   "source": [
    "test = [ 'no', 'sir', 'there', 'are', 'no', 'comets', 'seen', 'the', 'heauens', 'speede', 'thee', 'in', 'thine', 'enterprize' ]\n",
    "addone = 1\n",
    "counts = bigram_counts(test, addone)\n",
    "print(f\"Bigram Counts (sentence 2) AddOne: {addone}\")\n",
    "print(counts)"
   ]
  },
  {
   "cell_type": "code",
   "execution_count": 14,
   "metadata": {},
   "outputs": [
    {
     "name": "stdout",
     "output_type": "stream",
     "text": [
      "Bigram Probabilities (sentence 2) AddOne: 1\n",
      "                  no       sir     there       are    comets      seen  \\\n",
      "no          0.000321  0.000964  0.000321  0.000321  0.000642  0.000321   \n",
      "sir         0.000329  0.000329  0.000657  0.000329  0.000329  0.000329   \n",
      "there       0.000651  0.000325  0.000325  0.001301  0.000325  0.000325   \n",
      "are         0.000959   0.00032   0.00032   0.00032   0.00032   0.00032   \n",
      "comets      0.000331  0.000331  0.000331  0.000331  0.000331  0.000662   \n",
      "seen        0.000331  0.000331  0.000331  0.000331  0.000331  0.000331   \n",
      "the         0.000278  0.000278  0.000278  0.000278  0.000278  0.000278   \n",
      "heauens     0.000331  0.000331  0.000331  0.000331  0.000331  0.000331   \n",
      "speede      0.000331  0.000331  0.000331  0.000331  0.000331  0.000331   \n",
      "thee        0.000325  0.000325   0.00065  0.000325  0.000325  0.000325   \n",
      "in          0.000308  0.000308  0.000308  0.000308  0.000308  0.000308   \n",
      "thine       0.000331  0.000331  0.000331  0.000331  0.000331  0.000331   \n",
      "enterprize   0.00033   0.00033   0.00033   0.00033   0.00033   0.00033   \n",
      "\n",
      "                 the   heauens    speede      thee        in     thine  \\\n",
      "no          0.000321  0.000321  0.000321  0.000321  0.000321  0.000321   \n",
      "sir         0.000329  0.000329  0.000329  0.000329  0.000657  0.000329   \n",
      "there       0.000325  0.000325  0.000325  0.000325  0.000325  0.000325   \n",
      "are         0.001278   0.00032   0.00032   0.00032  0.000959   0.00032   \n",
      "comets      0.000331  0.000331  0.000331  0.000331  0.000331  0.000331   \n",
      "seen        0.000662  0.000331  0.000331  0.000331  0.000331  0.000331   \n",
      "the         0.000278  0.001667  0.000278  0.000278  0.000278  0.000278   \n",
      "heauens     0.000331  0.000331  0.000661  0.000331  0.000331  0.000331   \n",
      "speede      0.000331  0.000331  0.000331  0.000662  0.000331  0.000331   \n",
      "thee        0.000325  0.000325  0.000325  0.000325   0.00065  0.000325   \n",
      "in          0.012635  0.000308  0.000308  0.000308  0.000308  0.000924   \n",
      "thine       0.000331  0.000331  0.000331  0.000331  0.000331  0.000331   \n",
      "enterprize   0.00033   0.00033   0.00033   0.00033   0.00033   0.00033   \n",
      "\n",
      "           enterprize  \n",
      "no           0.000321  \n",
      "sir          0.000329  \n",
      "there        0.000325  \n",
      "are           0.00032  \n",
      "comets       0.000331  \n",
      "seen         0.000331  \n",
      "the          0.000278  \n",
      "heauens      0.000331  \n",
      "speede       0.000331  \n",
      "thee         0.000325  \n",
      "in           0.000308  \n",
      "thine        0.000661  \n",
      "enterprize    0.00033  \n"
     ]
    }
   ],
   "source": [
    "counts = bigram_probabilities(counts, addone)\n",
    "print(f\"Bigram Probabilities (sentence 2) AddOne: {addone}\")\n",
    "print(counts)"
   ]
  },
  {
   "cell_type": "code",
   "execution_count": 15,
   "metadata": {},
   "outputs": [
    {
     "name": "stdout",
     "output_type": "stream",
     "text": [
      "Sentence 2 probability: 2.8749630148976815e-43\n"
     ]
    }
   ],
   "source": [
    "prob = sentence_probability(test, counts)\n",
    "print(f\"Sentence 2 probability: {prob}\")"
   ]
  }
 ],
 "metadata": {
  "kernelspec": {
   "display_name": "Python 3.9.12 ('base')",
   "language": "python",
   "name": "python3"
  },
  "language_info": {
   "codemirror_mode": {
    "name": "ipython",
    "version": 3
   },
   "file_extension": ".py",
   "mimetype": "text/x-python",
   "name": "python",
   "nbconvert_exporter": "python",
   "pygments_lexer": "ipython3",
   "version": "3.9.12"
  },
  "orig_nbformat": 4,
  "vscode": {
   "interpreter": {
    "hash": "287bae7b0f7a7701cfce8ed62d9efb37e335cdeba10ac494acd78ac9525ffa5e"
   }
  }
 },
 "nbformat": 4,
 "nbformat_minor": 2
}
