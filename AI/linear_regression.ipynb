{
 "cells": [
  {
   "cell_type": "code",
   "execution_count": 2,
   "id": "de21eb22-1346-45a4-8488-dbb4908d130f",
   "metadata": {},
   "outputs": [],
   "source": [
    "import matplotlib.pyplot as plt\n",
    "import numpy as np\n",
    "import pandas as pd\n",
    "\n",
    "\"\"\"\n",
    "linear regression\n",
    "J(theta) = (predicted-real)^2 / 2m\n",
    "----------------------------------------------------------\n",
    "Return the gradient of the J function at the current theta\n",
    "g(theta) = (predicted-real) * x / m\n",
    "\"\"\"\n",
    "def g(x, y, theta):\n",
    "    m = len(x.index)\n",
    "    diff = h(theta, x) - y\n",
    "    return np.dot(x.transpose(), diff) / m\n",
    "\n",
    "def h(theta, x):\n",
    "    return np.dot(x, theta)\n",
    "\n",
    "def gradient_descent(x, y, theta, alpha = 0.1, n_iter = 50):\n",
    "    for iteration in range(n_iter):\n",
    "        theta = theta - alpha * g(x, y, theta)\n",
    "    return theta\n"
   ]
  },
  {
   "cell_type": "code",
   "execution_count": 3,
   "id": "0b4be541",
   "metadata": {},
   "outputs": [
    {
     "name": "stderr",
     "output_type": "stream",
     "text": [
      "c:\\Progs\\Anaconda3\\lib\\site-packages\\sklearn\\utils\\deprecation.py:87: FutureWarning: Function load_boston is deprecated; `load_boston` is deprecated in 1.0 and will be removed in 1.2.\n",
      "\n",
      "    The Boston housing prices dataset has an ethical problem. You can refer to\n",
      "    the documentation of this function for further details.\n",
      "\n",
      "    The scikit-learn maintainers therefore strongly discourage the use of this\n",
      "    dataset unless the purpose of the code is to study and educate about\n",
      "    ethical issues in data science and machine learning.\n",
      "\n",
      "    In this special case, you can fetch the dataset from the original\n",
      "    source::\n",
      "\n",
      "        import pandas as pd\n",
      "        import numpy as np\n",
      "\n",
      "\n",
      "        data_url = \"http://lib.stat.cmu.edu/datasets/boston\"\n",
      "        raw_df = pd.read_csv(data_url, sep=\"\\s+\", skiprows=22, header=None)\n",
      "        data = np.hstack([raw_df.values[::2, :], raw_df.values[1::2, :2]])\n",
      "        target = raw_df.values[1::2, 2]\n",
      "\n",
      "    Alternative datasets include the California housing dataset (i.e.\n",
      "    :func:`~sklearn.datasets.fetch_california_housing`) and the Ames housing\n",
      "    dataset. You can load the datasets as follows::\n",
      "\n",
      "        from sklearn.datasets import fetch_california_housing\n",
      "        housing = fetch_california_housing()\n",
      "\n",
      "    for the California housing dataset and::\n",
      "\n",
      "        from sklearn.datasets import fetch_openml\n",
      "        housing = fetch_openml(name=\"house_prices\", as_frame=True)\n",
      "\n",
      "    for the Ames housing dataset.\n",
      "    \n",
      "  warnings.warn(msg, category=FutureWarning)\n"
     ]
    }
   ],
   "source": [
    "from sklearn.datasets import load_boston\n",
    "from sklearn.model_selection import train_test_split\n",
    "from sklearn.preprocessing import StandardScaler\n",
    "\n",
    "boston_dataset = load_boston()\n",
    "X = boston_dataset.data\n",
    "Y = pd.DataFrame(boston_dataset.target, columns=[\"label\"])\n",
    "boston = pd.DataFrame(boston_dataset.data, columns=boston_dataset.feature_names)\n",
    "\n",
    "Scale = StandardScaler()\n",
    "boston = Scale.fit_transform(X)\n",
    "X = pd.DataFrame(boston, columns = ['CRIM','ZN','INDUS','CHAS','NOX','RM','AGE','DIS','RAD','TAX','PTRATIO','B','LSTAT'])\n",
    "X.insert(0, 'theta0', 1)\n",
    "\n",
    "X_train, X_test, Y_train, Y_test = train_test_split(X, Y, test_size = 0.3, random_state=5)"
   ]
  },
  {
   "cell_type": "code",
   "execution_count": 4,
   "id": "b9ebe57a",
   "metadata": {},
   "outputs": [
    {
     "name": "stdout",
     "output_type": "stream",
     "text": [
      "Training RMSE: 4.392678049275858\n",
      "Testing RMSE: 5.596543480397465\n"
     ]
    }
   ],
   "source": [
    "from cmath import sqrt\n",
    "\n",
    "theta_0 = pd.DataFrame(0, index=range(14), columns=[\"theta\"])\n",
    "\n",
    "theta_final = gradient_descent(X_train, Y_train, theta_0, alpha = 0.1, n_iter = 100)\n",
    "#print(theta_final)\n",
    "\n",
    "from sklearn.metrics import mean_squared_error\n",
    "estimates = h(theta_final, X_train)\n",
    "rmse = (np.sqrt(mean_squared_error(Y_train, estimates)))\n",
    "print(f\"Training RMSE: {rmse}\")\n",
    "\n",
    "estimates = h(theta_final, X_test)\n",
    "rmse = (np.sqrt(mean_squared_error(Y_test, estimates)))\n",
    "print(f\"Testing RMSE: {rmse}\")\n"
   ]
  },
  {
   "cell_type": "code",
   "execution_count": 5,
   "id": "74a5eb69",
   "metadata": {},
   "outputs": [
    {
     "name": "stdout",
     "output_type": "stream",
     "text": [
      "Training RMSE: 4.366731254717563\n",
      "Testing RMSE: 5.540490745781328\n"
     ]
    }
   ],
   "source": [
    "from sklearn.linear_model import LinearRegression\n",
    "from sklearn.metrics import mean_squared_error\n",
    "\n",
    "lin_model = LinearRegression()\n",
    "lin_model.fit(X_train, Y_train)\n",
    "\n",
    "# training set\n",
    "y_train_predict = lin_model.predict(X_train)\n",
    "rmse = (np.sqrt(mean_squared_error(Y_train, y_train_predict)))\n",
    "print(f\"Training RMSE: {rmse}\")\n",
    "\n",
    "# testing set\n",
    "y_test_predict = lin_model.predict(X_test)\n",
    "rmse = (np.sqrt(mean_squared_error(Y_test, y_test_predict)))\n",
    "print(f\"Testing RMSE: {rmse}\")"
   ]
  }
 ],
 "metadata": {
  "kernelspec": {
   "display_name": "Python 3.9.12 ('base')",
   "language": "python",
   "name": "python3"
  },
  "language_info": {
   "codemirror_mode": {
    "name": "ipython",
    "version": 3
   },
   "file_extension": ".py",
   "mimetype": "text/x-python",
   "name": "python",
   "nbconvert_exporter": "python",
   "pygments_lexer": "ipython3",
   "version": "3.9.12"
  },
  "vscode": {
   "interpreter": {
    "hash": "287bae7b0f7a7701cfce8ed62d9efb37e335cdeba10ac494acd78ac9525ffa5e"
   }
  }
 },
 "nbformat": 4,
 "nbformat_minor": 5
}
