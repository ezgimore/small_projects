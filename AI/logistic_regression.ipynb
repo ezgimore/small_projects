{
 "cells": [
  {
   "cell_type": "code",
   "execution_count": 17,
   "metadata": {},
   "outputs": [],
   "source": [
    "import pandas as pd\n",
    "import numpy as np\n",
    "import matplotlib.pyplot as plt\n",
    "import seaborn as sns"
   ]
  },
  {
   "cell_type": "code",
   "execution_count": 18,
   "metadata": {},
   "outputs": [],
   "source": [
    "data = pd.read_csv('titanic_train.csv')"
   ]
  },
  {
   "cell_type": "code",
   "execution_count": 19,
   "metadata": {},
   "outputs": [],
   "source": [
    "# fixing data\n",
    "\n",
    "def impute_age(cols):\n",
    "    Age = cols[0]\n",
    "    Pclass = cols[1]\n",
    "    \n",
    "    if pd.isnull(Age):\n",
    "\n",
    "        if Pclass == 1:\n",
    "            return 37\n",
    "\n",
    "        elif Pclass == 2:\n",
    "            return 29\n",
    "\n",
    "        else:\n",
    "            return 24\n",
    "\n",
    "    else:\n",
    "        return Age\n",
    "    \n",
    "\n",
    "data['Age'] = data[['Age','Pclass']].apply(impute_age,axis=1)\n",
    "\n",
    "data.drop('Cabin',axis=1,inplace=True)\n",
    "data.dropna(inplace=True)\n",
    "\n",
    "sex = pd.get_dummies(data['Sex'],drop_first=True)\n",
    "embark = pd.get_dummies(data['Embarked'],drop_first=True)\n",
    "data.drop(['Sex','Embarked','Name','Ticket'],axis=1,inplace=True)"
   ]
  },
  {
   "cell_type": "code",
   "execution_count": 20,
   "metadata": {},
   "outputs": [],
   "source": [
    "from sklearn.model_selection import train_test_split\n",
    "Y = pd.DataFrame(data['Survived'], columns=[\"Survived\"])\n",
    "X_train, X_test, Y_train, Y_test = train_test_split(data.drop('Survived',axis=1), Y, test_size=0.20, random_state=101)\n",
    "X_train.insert(0, 'theta0', 1)\n",
    "X_test.insert(0, 'theta0', 1)\n"
   ]
  },
  {
   "cell_type": "code",
   "execution_count": 21,
   "metadata": {},
   "outputs": [],
   "source": [
    "\"\"\"\n",
    "logistic regression\n",
    "----------------------------------------------------------\n",
    "Return the gradient of the J function at the current theta\n",
    "g(theta) = (predicted-real) * x / m\n",
    "\"\"\"\n",
    "def g(x, y, theta):\n",
    "    m = len(x.index)\n",
    "    diff = h(theta, x) - y\n",
    "    return np.dot(x.transpose(), diff) / m\n",
    "\n",
    "def h(theta, x):\n",
    "    #add sigmoidal function\n",
    "    return sig(np.dot(x, theta))\n",
    "\n",
    "def sig(x):\n",
    "    return 1/(1 + np.exp(-1 * x))\n",
    "\n",
    "def gradient_descent(x, y, theta, alpha = 0.1, n_iter = 50):\n",
    "    for iteration in range(n_iter):\n",
    "        theta = theta - alpha * g(x, y, theta)\n",
    "    return theta\n",
    "\n",
    "def estimate(theta, x):\n",
    "    yhat = h(theta, x)\n",
    "    yhat[yhat >= 0.5] = 1\n",
    "    yhat[yhat < 0.5] = 0\n",
    "    return yhat\n"
   ]
  },
  {
   "cell_type": "code",
   "execution_count": 22,
   "metadata": {},
   "outputs": [
    {
     "name": "stderr",
     "output_type": "stream",
     "text": [
      "C:\\Users\\julie\\AppData\\Local\\Temp\\ipykernel_28848\\349693804.py:17: RuntimeWarning: overflow encountered in exp\n",
      "  return 1/(1 + np.exp(-1 * x))\n"
     ]
    }
   ],
   "source": [
    "theta_0 = pd.DataFrame(0, index=range(7), columns=[\"theta\"])\n",
    "\n",
    "theta_final = gradient_descent(X_train, Y_train, theta_0, alpha = 0.1, n_iter = 100)"
   ]
  },
  {
   "cell_type": "code",
   "execution_count": 23,
   "metadata": {},
   "outputs": [
    {
     "name": "stdout",
     "output_type": "stream",
     "text": [
      "              precision    recall  f1-score   support\n",
      "\n",
      "           0       0.63      0.99      0.77       442\n",
      "           1       0.67      0.02      0.04       269\n",
      "\n",
      "    accuracy                           0.63       711\n",
      "   macro avg       0.65      0.51      0.41       711\n",
      "weighted avg       0.64      0.63      0.49       711\n",
      "\n",
      "Training Accuracy: 0.6258790436005626\n",
      "              precision    recall  f1-score   support\n",
      "\n",
      "           0       0.60      0.97      0.74       107\n",
      "           1       0.40      0.03      0.05        71\n",
      "\n",
      "    accuracy                           0.60       178\n",
      "   macro avg       0.50      0.50      0.40       178\n",
      "weighted avg       0.52      0.60      0.47       178\n",
      "\n",
      "Testing Accuracy: 0.5955056179775281\n"
     ]
    },
    {
     "name": "stderr",
     "output_type": "stream",
     "text": [
      "C:\\Users\\julie\\AppData\\Local\\Temp\\ipykernel_28848\\349693804.py:17: RuntimeWarning: overflow encountered in exp\n",
      "  return 1/(1 + np.exp(-1 * x))\n",
      "C:\\Users\\julie\\AppData\\Local\\Temp\\ipykernel_28848\\349693804.py:17: RuntimeWarning: overflow encountered in exp\n",
      "  return 1/(1 + np.exp(-1 * x))\n"
     ]
    }
   ],
   "source": [
    "from sklearn.metrics import classification_report\n",
    "from sklearn.metrics import accuracy_score\n",
    "\n",
    "predictions = estimate(theta_final, X_train)\n",
    "#print(predictions)\n",
    "\n",
    "print(classification_report(Y_train, predictions))\n",
    "print(\"Training Accuracy:\", accuracy_score(Y_train, predictions))\n",
    "\n",
    "predictions = estimate(theta_final, X_test)\n",
    "print(classification_report(Y_test,predictions))\n",
    "print(\"Testing Accuracy:\", accuracy_score(Y_test, predictions))\n"
   ]
  },
  {
   "cell_type": "code",
   "execution_count": 24,
   "metadata": {},
   "outputs": [
    {
     "name": "stdout",
     "output_type": "stream",
     "text": [
      "              precision    recall  f1-score   support\n",
      "\n",
      "           0       0.71      0.87      0.78       442\n",
      "           1       0.65      0.41      0.50       269\n",
      "\n",
      "    accuracy                           0.69       711\n",
      "   macro avg       0.68      0.64      0.64       711\n",
      "weighted avg       0.68      0.69      0.67       711\n",
      "\n",
      "Training Accuracy: 0.6919831223628692\n",
      "              precision    recall  f1-score   support\n",
      "\n",
      "           0       0.75      0.88      0.81       107\n",
      "           1       0.75      0.56      0.65        71\n",
      "\n",
      "    accuracy                           0.75       178\n",
      "   macro avg       0.75      0.72      0.73       178\n",
      "weighted avg       0.75      0.75      0.74       178\n",
      "\n",
      "Testing Accuracy: 0.7528089887640449\n"
     ]
    },
    {
     "name": "stderr",
     "output_type": "stream",
     "text": [
      "c:\\Progs\\Anaconda3\\lib\\site-packages\\sklearn\\utils\\validation.py:993: DataConversionWarning: A column-vector y was passed when a 1d array was expected. Please change the shape of y to (n_samples, ), for example using ravel().\n",
      "  y = column_or_1d(y, warn=True)\n"
     ]
    }
   ],
   "source": [
    "from sklearn.linear_model import LogisticRegression\n",
    "from sklearn.metrics import classification_report\n",
    "from sklearn.metrics import accuracy_score\n",
    "\n",
    "X_train, X_test, Y_train, Y_test = train_test_split(data.drop('Survived',axis=1), Y, test_size=0.20, random_state=101)\n",
    "\n",
    "logmodel = LogisticRegression()\n",
    "logmodel.fit(X_train,Y_train)\n",
    "\n",
    "predictions = logmodel.predict(X_train)\n",
    "print(classification_report(Y_train,predictions))\n",
    "print(\"Training Accuracy:\", accuracy_score(Y_train, predictions))\n",
    "\n",
    "predictions = logmodel.predict(X_test)\n",
    "print(classification_report(Y_test,predictions))\n",
    "print(\"Testing Accuracy:\", accuracy_score(Y_test, predictions))"
   ]
  }
 ],
 "metadata": {
  "kernelspec": {
   "display_name": "Python 3.9.12 ('base')",
   "language": "python",
   "name": "python3"
  },
  "language_info": {
   "codemirror_mode": {
    "name": "ipython",
    "version": 3
   },
   "file_extension": ".py",
   "mimetype": "text/x-python",
   "name": "python",
   "nbconvert_exporter": "python",
   "pygments_lexer": "ipython3",
   "version": "3.9.12"
  },
  "orig_nbformat": 4,
  "vscode": {
   "interpreter": {
    "hash": "287bae7b0f7a7701cfce8ed62d9efb37e335cdeba10ac494acd78ac9525ffa5e"
   }
  }
 },
 "nbformat": 4,
 "nbformat_minor": 2
}
